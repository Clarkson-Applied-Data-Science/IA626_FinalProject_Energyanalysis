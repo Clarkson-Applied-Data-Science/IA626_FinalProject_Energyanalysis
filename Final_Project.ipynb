{
 "cells": [
  {
   "cell_type": "code",
   "execution_count": 1,
   "metadata": {},
   "outputs": [
    {
     "name": "stdout",
     "output_type": "stream",
     "text": [
      "['Development Name', 'Borough', 'Account Name', 'Location', 'Meter AMR', 'Meter Scope', 'TDS #', 'EDP', 'RC Code', 'Funding Source', 'AMP #', 'Vendor Name', 'UMIS BILL ID', 'Revenue Month', 'Service Start Date', 'Service End Date', '# days', 'Meter Number', 'Estimated', 'Current Charges', 'Rate Class', 'Bill Analyzed', 'Consumption (Therms)', 'ES Commodity', 'Underlying Utility']\n",
      "['OCEAN BAY APARTMENTS (OCEANSIDE)', 'QUEENS', 'OCEAN BAY APARTMENTS (OCEANSIDE)', 'BLD 1', '', 'BACKUP GENERATOR', '51', '573', 'Q005100', 'FEDERAL', 'NY005010980P', 'National Grid LI', '12206094', '2023-01', '12/30/2022', '01/31/2023', '32', '4973285', 'N', '58.42', '250 Gas Non Resid General Use', 'Yes', '9', 'UTILITY GAS', 'NatGrid LI']\n",
      "['MELROSE', 'BRONX', 'MELROSE', 'BLD 06', 'NONE', 'BLD 1-8', '28', '523', 'B002800', 'FEDERAL', 'NY005010280P', 'CONSOLIDATED EDISON COMPANY OF NY', '12204326', '2023-01', '12/23/2022', '01/25/2023', '33', '3890439', 'N', '121355.55', 'TRMDHDF', 'Yes', '106950', 'UTILITY GAS', 'ConEd']\n",
      "['#N/A', 'NON DEVELOPMENT FACILITY', 'NDF - PSA 5, 221 EAST 123 ST', 'BLD 05', 'NONE', '', '#N/A', '999', '1011500', 'NON-DEVELOPMENT', '', 'CONSOLIDATED EDISON COMPANY OF NY', '12141969', '2023-01', '12/23/2022', '01/25/2023', '33', '3409056', 'Y', '1867.27', 'TR II NR', 'Yes', '1670', 'UTILITY GAS', 'ConEd']\n",
      "['WEBSTER', 'BRONX', 'WEBSTER', 'BLD 04', 'NONE', 'BLD 1-5', '141', '231', 'B014100', 'FEDERAL', 'NY005011410P', 'CONSOLIDATED EDISON COMPANY OF NY', '12146442', '2023-01', '12/23/2022', '01/25/2023', '33', '3382738', 'N', '136273.15', 'TRMDHDF', 'Yes', '120186', 'UTILITY GAS', 'ConEd']\n",
      "['FHA REPOSSESSED HOUSES (GROUP IX)', 'FHA', 'FHA REPOSSESSED HOUSES (GROUP IX)', '341 BERRIMAN STREET', 'AMR', '', '283', '376', 'Q028300', 'FEDERAL', 'NY005012090P', 'National Grid NYC', '12218362', '2023-01', '01/13/2023', '01/24/2023', '11', '115063', 'N', '503.59', 'T1B TRAN RES HEAT', 'Yes', '587', 'UTILITY GAS', 'NatGrid NYC']\n"
     ]
    }
   ],
   "source": [
    "#Initally loading the file into memory and printing first 5 rows\n",
    "import csv\n",
    "fn ='Heating_Gas_Consumption.csv'\n",
    "f = open(fn,'r')\n",
    "reader = csv.reader(f)\n",
    "n=0\n",
    "for row in reader:\n",
    "    print(row)\n",
    "    n+=1\n",
    "    if n > 5:\n",
    "        break"
   ]
  },
  {
   "cell_type": "code",
   "execution_count": 2,
   "metadata": {},
   "outputs": [
    {
     "name": "stdout",
     "output_type": "stream",
     "text": [
      "Row: 0\n",
      "Row: 10000\n",
      "Row: 20000\n",
      "Row: 30000\n",
      "Row: 40000\n",
      "Row: 50000\n",
      "Row: 60000\n",
      "Row: 70000\n",
      "Row: 80000\n",
      "Row: 90000\n",
      "Row: 100000\n",
      "Row: 110000\n",
      "Row: 120000\n",
      "Row: 130000\n",
      "Row: 140000\n",
      "Row: 150000\n",
      "Row: 160000\n",
      "Row: 170000\n",
      "Row: 180000\n",
      "Row: 190000\n",
      "Row: 200000\n",
      "Row: 210000\n",
      "Row: 220000\n",
      "Row: 230000\n",
      "Total number of rows: 230214\n"
     ]
    }
   ],
   "source": [
    "#Total number of rows\n",
    "import csv\n",
    "fn ='Heating_Gas_Consumption.csv'\n",
    "f = open(fn,'r')\n",
    "reader = csv.reader(f)\n",
    "n=0\n",
    "for row in reader:\n",
    "    if n % 10000 == 0:\n",
    "        print(\"Row:\",n)\n",
    "    n+=1\n",
    "print(\"Total number of rows:\",n)"
   ]
  },
  {
   "cell_type": "code",
   "execution_count": 3,
   "metadata": {},
   "outputs": [
    {
     "name": "stdout",
     "output_type": "stream",
     "text": [
      "['Development Name', 'Borough', 'Account Name', 'Location', 'Meter AMR', 'Meter Scope', 'TDS #', 'EDP', 'RC Code', 'Funding Source', 'AMP #', 'Vendor Name', 'UMIS BILL ID', 'Revenue Month', 'Service Start Date', 'Service End Date', '# days', 'Meter Number', 'Estimated', 'Current Charges', 'Rate Class', 'Bill Analyzed', 'Consumption (Therms)', 'ES Commodity', 'Underlying Utility']\n"
     ]
    }
   ],
   "source": [
    "#Field names of the Dataset\n",
    "import csv\n",
    "fn ='Heating_Gas_Consumption.csv'\n",
    "f = open(fn,'r')\n",
    "reader = csv.reader(f)\n",
    "for row in reader:\n",
    "    print(row)\n",
    "    break"
   ]
  },
  {
   "cell_type": "code",
   "execution_count": 23,
   "metadata": {},
   "outputs": [],
   "source": [
    "#New csv file with cleaned data\n",
    "import csv\n",
    "import datetime\n",
    "fn ='Heating_Gas_Consumption.csv'\n",
    "f = open(fn,'r')\n",
    "reader = csv.reader(f)\n",
    "#n = 0\n",
    "#clear destination file\n",
    "with open('Subset_Heating_Gas_Consumption.csv','w') as f1:\n",
    "    f1.write('')\n",
    "\n",
    "with open('Subset_Heating_Gas_Consumption.csv','a') as f1:\n",
    "    writer = csv.writer(f1, delimiter=',', lineterminator='\\n')\n",
    "    header = next(reader)\n",
    "    writer.writerow(header)\n",
    "    for i,row in enumerate(reader):\n",
    "        dts=row[14]\n",
    "        dte=row[15]\n",
    "\n",
    "        #print(dt)\n",
    "        try:\n",
    "            dtstart=datetime.datetime.strptime(dts,'%m/%d/%Y')\n",
    "            dtend=datetime.datetime.strptime(dte,'%m/%d/%Y')\n",
    "        except Exception as e:\n",
    "            pass\n",
    "           \n",
    "        #print(dtstart.year,dtend.year)\n",
    "        if i > 0 and row[0] != '#N/A' and row[1] != 'FHA' and row[1] != 'NON DEVELOPMENT FACILITY' and row[1]!= 'STATEN ISLAND'and dtstart.year >= 2013 and dtend.year >= 2013:\n",
    "            writer.writerow(row)\n",
    "        i += 1\n",
    "       # if i > 10:\n",
    "        #    break'''\n"
   ]
  },
  {
   "cell_type": "code",
   "execution_count": null,
   "metadata": {},
   "outputs": [],
   "source": [
    "import csv\n",
    "\n",
    "fn ='Subset_Heating_Gas_Consumption.csv'\n",
    "new_headers = ['Latitude', 'Longitude']\n",
    "\n",
    "# Read existing data from CSV file\n",
    "rows = []\n",
    "with open(fn, 'r') as f:\n",
    "    reader = csv.DictReader(f)\n",
    "    for row in reader:\n",
    "        rows.append(row)\n",
    "\n",
    "# Add new headers to the data\n",
    "for row in rows:\n",
    "    row.update({'Latitude': '', 'Longitude': ''})\n",
    "\n",
    "# Write updated data back to CSV file\n",
    "with open(fn, 'w', newline='') as f:\n",
    "    writer = csv.DictWriter(f, fieldnames=list(rows[0].keys()))\n",
    "    writer.writeheader()\n",
    "    writer.writerows(rows)\n",
    "    \n"
   ]
  },
  {
   "cell_type": "code",
   "execution_count": null,
   "metadata": {},
   "outputs": [],
   "source": [
    "import csv\n",
    "\n",
    "'''fn ='Subset_Heating_Gas_Consumption.csv'\n",
    "with open(fn, 'r') as f:\n",
    "    reader = csv.DictReader(f)\n",
    "    for row in reader:\n",
    "        rows.append(row)'''\n",
    "\n",
    "fn ='Bronx.csv'\n",
    "with open(fn, 'r') as f:\n",
    "    reader_Bronx = csv.DictReader(f)\n",
    "\n",
    "with open('Subset_Heating_Gas_Consumption.csv', 'w', newline='') as f:\n",
    "    writer = csv.writer(f, delimiter=',', lineterminator='\\n')\n",
    "    header = next(f)\n",
    "    writer.writerow(header)\n",
    "\n",
    "for row in f:\n",
    "    if row[1] == 'BRONX':\n",
    "        "
   ]
  },
  {
   "cell_type": "code",
   "execution_count": null,
   "metadata": {},
   "outputs": [],
   "source": [
    "import pandas as pd\n",
    "\n",
    "# read the two datasets\n",
    "df1 = pd.read_csv('Subset_Heating_Gas_Consumption.csv')\n",
    "df2 = pd.read_csv('Bronx.csv')\n",
    "\n",
    "for row in reader:\n",
    "    # merge the two datasets on a common column\n",
    "    merged_df = pd.merge(df1, df2[['Latitude', 'Longitude']], on='Latitude', on='Longitude')\n",
    "\n",
    "# print the merged dataset\n",
    "print(merged_df)\n"
   ]
  }
 ],
 "metadata": {
  "kernelspec": {
   "display_name": "base",
   "language": "python",
   "name": "python3"
  },
  "language_info": {
   "codemirror_mode": {
    "name": "ipython",
    "version": 3
   },
   "file_extension": ".py",
   "mimetype": "text/x-python",
   "name": "python",
   "nbconvert_exporter": "python",
   "pygments_lexer": "ipython3",
   "version": "3.9.13"
  },
  "orig_nbformat": 4
 },
 "nbformat": 4,
 "nbformat_minor": 2
}
